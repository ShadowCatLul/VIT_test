{
 "cells": [
  {
   "cell_type": "code",
   "execution_count": 1,
   "metadata": {},
   "outputs": [
    {
     "name": "stdout",
     "output_type": "stream",
     "text": [
      "Collecting transformers\n",
      "  Downloading transformers-4.40.2-py3-none-any.whl (9.0 MB)\n",
      "Requirement already satisfied: requests in c:\\users\\admin\\appdata\\roaming\\python\\python39\\site-packages (from transformers) (2.28.1)\n",
      "Collecting huggingface-hub<1.0,>=0.19.3\n",
      "  Downloading huggingface_hub-0.23.0-py3-none-any.whl (401 kB)\n",
      "Requirement already satisfied: numpy>=1.17 in c:\\users\\admin\\appdata\\roaming\\python\\python39\\site-packages (from transformers) (1.24.1)\n",
      "Requirement already satisfied: filelock in c:\\users\\admin\\appdata\\roaming\\python\\python39\\site-packages (from transformers) (3.9.0)\n",
      "Collecting tokenizers<0.20,>=0.19\n",
      "  Downloading tokenizers-0.19.1-cp39-none-win_amd64.whl (2.2 MB)\n",
      "Requirement already satisfied: pyyaml>=5.1 in c:\\users\\admin\\appdata\\local\\programs\\python\\python39\\lib\\site-packages (from transformers) (6.0.1)\n",
      "Requirement already satisfied: regex!=2019.12.17 in c:\\users\\admin\\appdata\\local\\programs\\python\\python39\\lib\\site-packages (from transformers) (2023.12.25)\n",
      "Requirement already satisfied: tqdm>=4.27 in c:\\users\\admin\\appdata\\local\\programs\\python\\python39\\lib\\site-packages (from transformers) (4.66.1)\n",
      "Collecting safetensors>=0.4.1\n",
      "  Downloading safetensors-0.4.3-cp39-none-win_amd64.whl (287 kB)\n",
      "Requirement already satisfied: packaging>=20.0 in c:\\users\\admin\\appdata\\local\\programs\\python\\python39\\lib\\site-packages (from transformers) (23.2)\n",
      "Requirement already satisfied: idna<4,>=2.5 in c:\\users\\admin\\appdata\\roaming\\python\\python39\\site-packages (from requests->transformers) (3.4)\n",
      "Requirement already satisfied: urllib3<1.27,>=1.21.1 in c:\\users\\admin\\appdata\\roaming\\python\\python39\\site-packages (from requests->transformers) (1.26.13)\n",
      "Requirement already satisfied: certifi>=2017.4.17 in c:\\users\\admin\\appdata\\roaming\\python\\python39\\site-packages (from requests->transformers) (2022.12.7)\n",
      "Requirement already satisfied: charset-normalizer<3,>=2 in c:\\users\\admin\\appdata\\roaming\\python\\python39\\site-packages (from requests->transformers) (2.1.1)\n",
      "Requirement already satisfied: typing-extensions>=3.7.4.3 in c:\\users\\admin\\appdata\\roaming\\python\\python39\\site-packages (from huggingface-hub<1.0,>=0.19.3->transformers) (4.8.0)\n",
      "Requirement already satisfied: fsspec>=2023.5.0 in c:\\users\\admin\\appdata\\local\\programs\\python\\python39\\lib\\site-packages (from huggingface-hub<1.0,>=0.19.3->transformers) (2023.10.0)\n",
      "Requirement already satisfied: colorama; platform_system == \"Windows\" in c:\\users\\admin\\appdata\\local\\programs\\python\\python39\\lib\\site-packages (from tqdm>=4.27->transformers) (0.4.6)\n",
      "Installing collected packages: huggingface-hub, tokenizers, safetensors, transformers\n",
      "Successfully installed huggingface-hub-0.23.0 safetensors-0.4.3 tokenizers-0.19.1 transformers-4.40.2\n",
      "Note: you may need to restart the kernel to use updated packages.\n"
     ]
    },
    {
     "name": "stderr",
     "output_type": "stream",
     "text": [
      "WARNING: You are using pip version 20.2.3; however, version 24.0 is available.\n",
      "You should consider upgrading via the 'c:\\Users\\Admin\\AppData\\Local\\Programs\\Python\\Python39\\python.exe -m pip install --upgrade pip' command.\n"
     ]
    }
   ],
   "source": [
    "%pip install transformers "
   ]
  },
  {
   "cell_type": "code",
   "execution_count": 2,
   "metadata": {},
   "outputs": [
    {
     "name": "stdout",
     "output_type": "stream",
     "text": [
      "Requirement already satisfied: coca-pytorch in c:\\users\\admin\\appdata\\local\\programs\\python\\python39\\lib\\site-packages (0.1.0)\n",
      "Requirement already satisfied: torch>=1.6 in c:\\users\\admin\\appdata\\roaming\\python\\python39\\site-packages (from coca-pytorch) (2.0.1+cu117)\n",
      "Requirement already satisfied: einops>=0.4 in c:\\users\\admin\\appdata\\local\\programs\\python\\python39\\lib\\site-packages (from coca-pytorch) (0.8.0)\n",
      "Requirement already satisfied: sympy in c:\\users\\admin\\appdata\\roaming\\python\\python39\\site-packages (from torch>=1.6->coca-pytorch) (1.12)\n",
      "Requirement already satisfied: jinja2 in c:\\users\\admin\\appdata\\roaming\\python\\python39\\site-packages (from torch>=1.6->coca-pytorch) (3.1.2)\n",
      "Requirement already satisfied: typing-extensions in c:\\users\\admin\\appdata\\roaming\\python\\python39\\site-packages (from torch>=1.6->coca-pytorch) (4.8.0)\n",
      "Requirement already satisfied: filelock in c:\\users\\admin\\appdata\\roaming\\python\\python39\\site-packages (from torch>=1.6->coca-pytorch) (3.9.0)\n",
      "Requirement already satisfied: networkx in c:\\users\\admin\\appdata\\roaming\\python\\python39\\site-packages (from torch>=1.6->coca-pytorch) (3.2.1)\n",
      "Requirement already satisfied: mpmath>=0.19 in c:\\users\\admin\\appdata\\roaming\\python\\python39\\site-packages (from sympy->torch>=1.6->coca-pytorch) (1.3.0)\n",
      "Requirement already satisfied: MarkupSafe>=2.0 in c:\\users\\admin\\appdata\\roaming\\python\\python39\\site-packages (from jinja2->torch>=1.6->coca-pytorch) (2.1.3)\n",
      "Note: you may need to restart the kernel to use updated packages.\n"
     ]
    },
    {
     "name": "stderr",
     "output_type": "stream",
     "text": [
      "WARNING: You are using pip version 20.2.3; however, version 24.0 is available.\n",
      "You should consider upgrading via the 'c:\\Users\\Admin\\AppData\\Local\\Programs\\Python\\Python39\\python.exe -m pip install --upgrade pip' command.\n"
     ]
    },
    {
     "name": "stdout",
     "output_type": "stream",
     "text": [
      "Note: you may need to restart the kernel to use updated packages.\n"
     ]
    },
    {
     "name": "stderr",
     "output_type": "stream",
     "text": [
      "WARNING: You are using pip version 20.2.3; however, version 24.0 is available.\n",
      "You should consider upgrading via the 'c:\\Users\\Admin\\AppData\\Local\\Programs\\Python\\Python39\\python.exe -m pip install --upgrade pip' command.\n"
     ]
    },
    {
     "name": "stdout",
     "output_type": "stream",
     "text": [
      "Requirement already satisfied: einops in c:\\users\\admin\\appdata\\local\\programs\\python\\python39\\lib\\site-packages (0.8.0)\n",
      "Note: you may need to restart the kernel to use updated packages.\n"
     ]
    },
    {
     "name": "stderr",
     "output_type": "stream",
     "text": [
      "WARNING: You are using pip version 20.2.3; however, version 24.0 is available.\n",
      "You should consider upgrading via the 'c:\\Users\\Admin\\AppData\\Local\\Programs\\Python\\Python39\\python.exe -m pip install --upgrade pip' command.\n"
     ]
    }
   ],
   "source": [
    "%pip install coca-pytorch\n",
    "%pip install vit-pytorch>=0.40.2\n",
    "%pip install einops"
   ]
  },
  {
   "cell_type": "code",
   "execution_count": null,
   "metadata": {},
   "outputs": [],
   "source": [
    "#OmniVec (VIT) top 1\n",
    "#coca-pytorch"
   ]
  },
  {
   "cell_type": "code",
   "execution_count": 1,
   "metadata": {},
   "outputs": [
    {
     "ename": "ModuleNotFoundError",
     "evalue": "No module named 'torch'",
     "output_type": "error",
     "traceback": [
      "\u001b[1;31m---------------------------------------------------------------------------\u001b[0m",
      "\u001b[1;31mModuleNotFoundError\u001b[0m                       Traceback (most recent call last)",
      "Cell \u001b[1;32mIn[1], line 1\u001b[0m\n\u001b[1;32m----> 1\u001b[0m \u001b[38;5;28;01mimport\u001b[39;00m \u001b[38;5;21;01mtorch\u001b[39;00m\n\u001b[0;32m      3\u001b[0m \u001b[38;5;66;03m# import vision transformer\u001b[39;00m\n\u001b[0;32m      5\u001b[0m \u001b[38;5;28;01mfrom\u001b[39;00m \u001b[38;5;21;01mvit_pytorch\u001b[39;00m\u001b[38;5;21;01m.\u001b[39;00m\u001b[38;5;21;01msimple_vit_with_patch_dropout\u001b[39;00m \u001b[38;5;28;01mimport\u001b[39;00m SimpleViT\n",
      "\u001b[1;31mModuleNotFoundError\u001b[0m: No module named 'torch'"
     ]
    }
   ],
   "source": [
    "import torch\n",
    "\n",
    "# import vision transformer\n",
    "\n",
    "from vit_pytorch.simple_vit_with_patch_dropout import SimpleViT\n",
    "from vit_pytorch.extractor import Extractor\n",
    "\n",
    "vit = SimpleViT(\n",
    "    image_size = 256,\n",
    "    patch_size = 32,\n",
    "    num_classes = 1000,\n",
    "    dim = 1024,\n",
    "    depth = 6,\n",
    "    heads = 16,\n",
    "    mlp_dim = 2048,\n",
    "    patch_dropout = 0.5  # https://arxiv.org/abs/2212.00794\n",
    ")\n",
    "\n",
    "vit = Extractor(vit, return_embeddings_only = True, detach = False)\n",
    "\n",
    "# extractor will enable it so the vision transformer returns its embeddings\n",
    "\n",
    "# import CoCa and instantiate it\n",
    "\n",
    "from coca_pytorch.coca_pytorch import CoCa\n",
    "\n",
    "coca = CoCa(\n",
    "    dim = 512,                     # model dimension\n",
    "    img_encoder = vit,             # vision transformer - image encoder, returning image embeddings as (batch, seq, dim)\n",
    "    image_dim = 1024,              # image embedding dimension, if not the same as model dimensions\n",
    "    num_tokens = 20000,            # number of text tokens\n",
    "    unimodal_depth = 6,            # depth of the unimodal transformer\n",
    "    multimodal_depth = 6,          # depth of the multimodal transformer\n",
    "    dim_head = 64,                 # dimension per attention head\n",
    "    heads = 8,                     # number of attention heads\n",
    "    caption_loss_weight = 1.,      # weight on the autoregressive caption loss\n",
    "    contrastive_loss_weight = 1.,  # weight on the contrastive loss between image and text CLS embeddings\n",
    ").cuda()\n",
    "\n",
    "# mock text and images\n",
    "\n",
    "text = torch.randint(0, 20000, (4, 512)).cuda()\n",
    "images = torch.randn(4, 3, 256, 256).cuda()\n",
    "\n",
    "# train by giving CoCa your text and images with `return_loss = True`\n",
    "\n",
    "loss = coca(\n",
    "    text = text,\n",
    "    images = images,\n",
    "    return_loss = True  # set this to True to get the full caption + contrastive loss\n",
    ")\n",
    "\n",
    "loss.backward()\n",
    "\n",
    "# do the above for as much text and images...\n",
    "# then you can get the caption logits as so\n",
    "\n",
    "logits = coca(\n",
    "    text = text,\n",
    "    images = images\n",
    ") # (4, 512, 20000)\n",
    "\n",
    "# and the CLIP-like text and image embeddings as\n",
    "\n",
    "text_embeds, image_embeds = coca(\n",
    "    text = text,\n",
    "    images = images,\n",
    "    return_embeddings = True\n",
    ") # (4, 512), (4, 512)"
   ]
  },
  {
   "cell_type": "code",
   "execution_count": null,
   "metadata": {},
   "outputs": [],
   "source": []
  },
  {
   "cell_type": "code",
   "execution_count": 9,
   "metadata": {},
   "outputs": [
    {
     "name": "stderr",
     "output_type": "stream",
     "text": [
      "d:\\PycharmProjects\\CVTransformers\\.venv\\Lib\\site-packages\\transformers\\models\\vit\\feature_extraction_vit.py:28: FutureWarning: The class ViTFeatureExtractor is deprecated and will be removed in version 5 of Transformers. Please use ViTImageProcessor instead.\n",
      "  warnings.warn(\n"
     ]
    },
    {
     "ename": "AttributeError",
     "evalue": "'PngImageFile' object has no attribute 'T'",
     "output_type": "error",
     "traceback": [
      "\u001b[1;31m---------------------------------------------------------------------------\u001b[0m",
      "\u001b[1;31mAttributeError\u001b[0m                            Traceback (most recent call last)",
      "Cell \u001b[1;32mIn[9], line 104\u001b[0m\n\u001b[0;32m    101\u001b[0m json_file \u001b[38;5;241m=\u001b[39m directory\u001b[38;5;241m+\u001b[39m\u001b[38;5;124m'\u001b[39m\u001b[38;5;124mkak-proverit-pasport-3desk.qln0yi.json\u001b[39m\u001b[38;5;124m'\u001b[39m\n\u001b[0;32m    103\u001b[0m \u001b[38;5;66;03m# Load data\u001b[39;00m\n\u001b[1;32m--> 104\u001b[0m image_patches, bbox_tokens \u001b[38;5;241m=\u001b[39m \u001b[43mload_labelme_data\u001b[49m\u001b[43m(\u001b[49m\u001b[43mjson_file\u001b[49m\u001b[43m,\u001b[49m\u001b[43m \u001b[49m\u001b[43mfeature_extractor\u001b[49m\u001b[43m)\u001b[49m\n\u001b[0;32m    106\u001b[0m \u001b[38;5;66;03m# Make predictions\u001b[39;00m\n\u001b[0;32m    107\u001b[0m output \u001b[38;5;241m=\u001b[39m model(image_patches, bbox_tokens)\n",
      "Cell \u001b[1;32mIn[9], line 76\u001b[0m, in \u001b[0;36mload_labelme_data\u001b[1;34m(json_file, feature_extractor)\u001b[0m\n\u001b[0;32m     73\u001b[0m image_height \u001b[38;5;241m=\u001b[39m data[\u001b[38;5;124m'\u001b[39m\u001b[38;5;124mimageHeight\u001b[39m\u001b[38;5;124m'\u001b[39m]\n\u001b[0;32m     75\u001b[0m \u001b[38;5;66;03m# Preprocess image for ViT\u001b[39;00m\n\u001b[1;32m---> 76\u001b[0m image_patches \u001b[38;5;241m=\u001b[39m \u001b[43mpreprocess_image\u001b[49m\u001b[43m(\u001b[49m\u001b[43mimage_path\u001b[49m\u001b[43m,\u001b[49m\u001b[43m \u001b[49m\u001b[43mfeature_extractor\u001b[49m\u001b[43m)\u001b[49m\n\u001b[0;32m     78\u001b[0m \u001b[38;5;66;03m# Prepare bbox tokens (assume labels are numeric or convert them to numeric)\u001b[39;00m\n\u001b[0;32m     79\u001b[0m bbox_tokens \u001b[38;5;241m=\u001b[39m []\n",
      "Cell \u001b[1;32mIn[9], line 10\u001b[0m, in \u001b[0;36mpreprocess_image\u001b[1;34m(image_path, feature_extractor)\u001b[0m\n\u001b[0;32m      9\u001b[0m \u001b[38;5;28;01mdef\u001b[39;00m \u001b[38;5;21mpreprocess_image\u001b[39m(image_path, feature_extractor):\n\u001b[1;32m---> 10\u001b[0m     image \u001b[38;5;241m=\u001b[39m \u001b[43mImage\u001b[49m\u001b[38;5;241;43m.\u001b[39;49m\u001b[43mopen\u001b[49m\u001b[43m(\u001b[49m\u001b[43mimage_path\u001b[49m\u001b[43m)\u001b[49m\u001b[38;5;241;43m.\u001b[39;49m\u001b[43mT\u001b[49m\n\u001b[0;32m     11\u001b[0m     \u001b[38;5;66;03m# Resize and normalize the image for ViT\u001b[39;00m\n\u001b[0;32m     12\u001b[0m     inputs \u001b[38;5;241m=\u001b[39m feature_extractor(images\u001b[38;5;241m=\u001b[39mimage, return_tensors\u001b[38;5;241m=\u001b[39m\u001b[38;5;124m\"\u001b[39m\u001b[38;5;124mpt\u001b[39m\u001b[38;5;124m\"\u001b[39m)\n",
      "\u001b[1;31mAttributeError\u001b[0m: 'PngImageFile' object has no attribute 'T'"
     ]
    }
   ],
   "source": [
    "import torch\n",
    "import torch.nn as nn\n",
    "import torchvision.transforms as transforms\n",
    "from transformers import ViTModel, ViTFeatureExtractor\n",
    "from PIL import Image\n",
    "import json\n",
    "\n",
    "# Load and preprocess the image using ViT feature extractor\n",
    "def preprocess_image(image_path, feature_extractor):\n",
    "    image = Image.open(image_path)\n",
    "    # Resize and normalize the image for ViT\n",
    "    inputs = feature_extractor(images=image, return_tensors=\"pt\")\n",
    "    return inputs\n",
    "\n",
    "def normalize_bbox(points, image_width, image_height):\n",
    "    # Extract (x_min, y_min), (x_max, y_max)\n",
    "    x_min, y_min = points[0]\n",
    "    x_max, y_max = points[1]\n",
    "    \n",
    "    # Normalize the bounding box coordinates\n",
    "    x_min /= image_width\n",
    "    x_max /= image_width\n",
    "    y_min /= image_height\n",
    "    y_max /= image_height\n",
    "    \n",
    "    return [x_min, y_min, x_max, y_max]\n",
    "# Convert bounding box to a suitable format for the model\n",
    "def encode_bbox(bbox, label, num_classes=10):\n",
    "    bbox = torch.tensor(bbox)  # Assume normalized bbox\n",
    "    # One-hot encode the class label\n",
    "    class_embedding = torch.nn.functional.one_hot(torch.tensor(label), num_classes=num_classes).float()\n",
    "    bbox_token = torch.cat((bbox, class_embedding))\n",
    "    return bbox_token\n",
    "\n",
    "# Define the model architecture\n",
    "class BBoxVerificationModelViT(nn.Module):\n",
    "    def __init__(self, num_classes=2):\n",
    "        super(BBoxVerificationModelViT, self).__init__()\n",
    "        # Load pre-trained ViT backbone\n",
    "        self.vit = ViTModel.from_pretrained('google/vit-base-patch16-224-in21k')\n",
    "        \n",
    "        # Bounding box encoder (4 bbox coordinates + class label)\n",
    "        self.fc_bbox = nn.Linear(4 + num_classes, 64)  # Bbox + class label token\n",
    "        \n",
    "        # Fully connected layers to combine ViT features and bbox token\n",
    "        self.fc_combined = nn.Linear(768 + 64, 256)\n",
    "        self.fc_out = nn.Linear(256, num_classes)  # Binary classification head\n",
    "\n",
    "    def forward(self, image_patches, bbox_token):\n",
    "        # Pass image patches through ViT model\n",
    "        vit_features = self.vit(**image_patches).last_hidden_state[:, 0, :]  # CLS token from ViT\n",
    "        \n",
    "        # Encode the bounding box\n",
    "        bbox_embedding = self.fc_bbox(bbox_token)\n",
    "        \n",
    "        # Combine ViT features with bbox embedding\n",
    "        combined_features = torch.cat((vit_features, bbox_embedding), dim=1)\n",
    "        \n",
    "        # Classification head to predict if bbox is correct\n",
    "        x = torch.relu(self.fc_combined(combined_features))\n",
    "        output = self.fc_out(x)\n",
    "        \n",
    "        return output\n",
    "\n",
    "# Example data loading function from Label Studio JSON format\n",
    "def load_labelme_data(json_file, feature_extractor):\n",
    "    with open(json_file, 'r') as f:\n",
    "        data = json.load(f)\n",
    "    \n",
    "    image_path = directory+data['imagePath']\n",
    "    annotations = data['shapes']\n",
    "    image_width = data['imageWidth']\n",
    "    image_height = data['imageHeight']\n",
    "    \n",
    "    # Preprocess image for ViT\n",
    "    image_patches = preprocess_image(image_path, feature_extractor)\n",
    "    \n",
    "    # Prepare bbox tokens (assume labels are numeric or convert them to numeric)\n",
    "    bbox_tokens = []\n",
    "    label_map = {\"cat\": 0, \"dog\": 1}  # Example label mapping\n",
    "    \n",
    "    for ann in annotations:\n",
    "        bbox = normalize_bbox(ann['points'], image_width, image_height)\n",
    "        label = label_map[ann['label']]  # Convert label to numeric\n",
    "        bbox_token = encode_bbox(bbox, label)\n",
    "        bbox_tokens.append(bbox_token)\n",
    "    \n",
    "    # Stack bbox tokens into a tensor\n",
    "    bbox_tokens = torch.stack(bbox_tokens)\n",
    "    \n",
    "    return image_patches, bbox_tokens\n",
    "\n",
    "\n",
    "directory = 'train_data/'\n",
    "\n",
    "# Initialize model, feature extractor, and sample inputs\n",
    "feature_extractor = ViTFeatureExtractor.from_pretrained('google/vit-base-patch16-224-in21k')\n",
    "model = BBoxVerificationModelViT(num_classes=2)  # Binary classification: Correct/Incorrect\n",
    "\n",
    "# Example LabelMe format JSON file\n",
    "json_file = directory+'kak-proverit-pasport-3desk.qln0yi.json'\n",
    "\n",
    "# Load data\n",
    "image_patches, bbox_tokens = load_labelme_data(json_file, feature_extractor)\n",
    "\n",
    "# Make predictions\n",
    "output = model(image_patches, bbox_tokens)\n",
    "prediction = torch.softmax(output, dim=1)\n",
    "print(\"Prediction: \", prediction)"
   ]
  },
  {
   "cell_type": "code",
   "execution_count": 6,
   "metadata": {},
   "outputs": [
    {
     "name": "stderr",
     "output_type": "stream",
     "text": [
      "\"pwd\" �� ���� ����७��� ��� ���譥�\n",
      "��������, �ᯮ��塞�� �ணࠬ��� ��� ������ 䠩���.\n"
     ]
    }
   ],
   "source": [
    "!pwd"
   ]
  },
  {
   "cell_type": "code",
   "execution_count": null,
   "metadata": {},
   "outputs": [],
   "source": []
  }
 ],
 "metadata": {
  "kernelspec": {
   "display_name": "Python 3",
   "language": "python",
   "name": "python3"
  },
  "language_info": {
   "codemirror_mode": {
    "name": "ipython",
    "version": 3
   },
   "file_extension": ".py",
   "mimetype": "text/x-python",
   "name": "python",
   "nbconvert_exporter": "python",
   "pygments_lexer": "ipython3",
   "version": "3.11.6"
  }
 },
 "nbformat": 4,
 "nbformat_minor": 2
}
